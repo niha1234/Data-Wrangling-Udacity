{
 "cells": [
  {
   "cell_type": "code",
   "execution_count": 31,
   "metadata": {
    "collapsed": true
   },
   "outputs": [],
   "source": [
    "import csv\n",
    "import sqlite3\n",
    "db = sqlite3.connect('./Data/portland_ore.db')\n",
    "cur = db.cursor()\n"
   ]
  },
  {
   "cell_type": "code",
   "execution_count": 32,
   "metadata": {
    "collapsed": false
   },
   "outputs": [
    {
     "data": {
      "text/plain": [
       "<sqlite3.Cursor at 0x28d156cea40>"
      ]
     },
     "execution_count": 32,
     "metadata": {},
     "output_type": "execute_result"
    }
   ],
   "source": [
    "\n",
    "# create table nodes\n",
    "cur.execute(\"CREATE TABLE IF NOT EXISTS nodes (\\\n",
    "    id INTEGER PRIMARY KEY NOT NULL,\\\n",
    "    lat REAL,\\\n",
    "    lon REAL,\\\n",
    "    user TEXT,\\\n",
    "    uid INTEGER,\\\n",
    "    version INTEGER,\\\n",
    "    changeset INTEGER,\\\n",
    "    timestamp TEXT);\")\n",
    "\n",
    "\n",
    "\n"
   ]
  },
  {
   "cell_type": "code",
   "execution_count": 33,
   "metadata": {
    "collapsed": false
   },
   "outputs": [],
   "source": [
    "# insert data to nodes\n",
    "db.text_factory = str\n",
    "with open('./Data/Validated/nodes.csv', 'rt') as fin:\n",
    "    dr = csv.DictReader(fin)\n",
    "    to_db = []\n",
    "    for i in dr:\n",
    "        to_db = (i['id'], i['lat'], i['lon'], i['user'], i['uid'], i['version'], i['changeset'], i['timestamp'])\n",
    "        cur.execute(\"INSERT INTO nodes(id, lat, lon, user, uid, version, changeset, timestamp) VALUES (?, ?, ?, ?, ?, ?, ?, ?);\",\n",
    "                    to_db)\n",
    "db.commit()\n",
    "\n"
   ]
  },
  {
   "cell_type": "code",
   "execution_count": 34,
   "metadata": {
    "collapsed": false
   },
   "outputs": [
    {
     "data": {
      "text/plain": [
       "<sqlite3.Cursor at 0x28d156cea40>"
      ]
     },
     "execution_count": 34,
     "metadata": {},
     "output_type": "execute_result"
    }
   ],
   "source": [
    "# create table nodes_tags\n",
    "cur.execute(\"CREATE TABLE nodes_tags (\\\n",
    "    id INTEGER,\\\n",
    "    key TEXT,\\\n",
    "    value TEXT,\\\n",
    "    type TEXT,\\\n",
    "    FOREIGN KEY (id) REFERENCES nodes(id));\")\n",
    "\n",
    "\n",
    "\n"
   ]
  },
  {
   "cell_type": "code",
   "execution_count": 35,
   "metadata": {
    "collapsed": false
   },
   "outputs": [],
   "source": [
    "# insert data to nodes_tags\n",
    "with open('./Data/Validated/nodes_tags.csv', 'rt',encoding = \"utf-8\") as fin:\n",
    "    dr = csv.DictReader(fin)\n",
    "    to_db = []\n",
    "    for i in dr:\n",
    "        to_db = (i['id'], i['key'], i['value'], i['type'])\n",
    "        cur.execute(\"INSERT INTO nodes_tags(id, key, value, type) VALUES (?, ?, ?, ?);\", to_db)\n",
    "db.commit()\n"
   ]
  },
  {
   "cell_type": "code",
   "execution_count": 36,
   "metadata": {
    "collapsed": false
   },
   "outputs": [
    {
     "data": {
      "text/plain": [
       "<sqlite3.Cursor at 0x28d156cea40>"
      ]
     },
     "execution_count": 36,
     "metadata": {},
     "output_type": "execute_result"
    }
   ],
   "source": [
    "# create table ways\n",
    "cur.execute(\"CREATE TABLE ways (\\\n",
    "    id INTEGER PRIMARY KEY NOT NULL,\\\n",
    "    user TEXT,\\\n",
    "    uid INTEGER,\\\n",
    "    version TEXT,\\\n",
    "    changeset INTEGER,\\\n",
    "    timestamp TEXT);\")\n",
    "\n"
   ]
  },
  {
   "cell_type": "code",
   "execution_count": 37,
   "metadata": {
    "collapsed": false
   },
   "outputs": [],
   "source": [
    "# insert data to ways\n",
    "with open('./Data/Validated/ways.csv', 'rt') as fin:\n",
    "    dr = csv.DictReader(fin)\n",
    "    to_db = []\n",
    "    for i in dr:\n",
    "        to_db = (i['id'], i['user'], i['uid'], i['version'], i['changeset'], i['timestamp'])\n",
    "        cur.execute(\"INSERT INTO ways(id, user, uid, version, changeset, timestamp) VALUES (?, ?, ?, ?, ?, ?);\",\n",
    "                    to_db)\n",
    "db.commit()\n",
    "\n"
   ]
  },
  {
   "cell_type": "code",
   "execution_count": 38,
   "metadata": {
    "collapsed": false
   },
   "outputs": [
    {
     "data": {
      "text/plain": [
       "<sqlite3.Cursor at 0x28d156cea40>"
      ]
     },
     "execution_count": 38,
     "metadata": {},
     "output_type": "execute_result"
    }
   ],
   "source": [
    "# create table ways_tags\n",
    "cur.execute(\"CREATE TABLE ways_tags (\\\n",
    "    id INTEGER NOT NULL,\\\n",
    "    key TEXT NOT NULL,\\\n",
    "    value TEXT NOT NULL,\\\n",
    "    type TEXT,\\\n",
    "    FOREIGN KEY (id) REFERENCES ways(id));\")\n",
    "\n",
    "\n",
    "\n",
    "\n"
   ]
  },
  {
   "cell_type": "code",
   "execution_count": 39,
   "metadata": {
    "collapsed": false
   },
   "outputs": [],
   "source": [
    "# insert data to ways_tags\n",
    "with open('./Data/Validated/ways_tags.csv', 'rt',encoding = \"utf-8\") as fin:\n",
    "    dr = csv.DictReader(fin)\n",
    "    to_db = []\n",
    "    for i in dr:\n",
    "        to_db = (i['id'], i['key'], i['value'], i['type'])\n",
    "        cur.execute(\"INSERT INTO ways_tags(id, key, value, type) VALUES (?, ?, ?, ?);\", to_db)\n",
    "db.commit()"
   ]
  },
  {
   "cell_type": "code",
   "execution_count": 40,
   "metadata": {
    "collapsed": false
   },
   "outputs": [
    {
     "data": {
      "text/plain": [
       "<sqlite3.Cursor at 0x28d156cea40>"
      ]
     },
     "execution_count": 40,
     "metadata": {},
     "output_type": "execute_result"
    }
   ],
   "source": [
    "# create table ways_nodes\n",
    "cur.execute(\"CREATE TABLE ways_nodes (\\\n",
    "    id INTEGER NOT NULL,\\\n",
    "    node_id INTEGER NOT NULL,\\\n",
    "    position INTEGER NOT NULL,\\\n",
    "    FOREIGN KEY (id) REFERENCES ways(id),\\\n",
    "    FOREIGN KEY (node_id) REFERENCES nodes(id));\")\n",
    "\n",
    "\n",
    "\n"
   ]
  },
  {
   "cell_type": "code",
   "execution_count": 41,
   "metadata": {
    "collapsed": true
   },
   "outputs": [],
   "source": [
    "# insert data to ways_nodes\n",
    "with open('./Data/Validated/ways_nodes.csv', 'rt') as fin:\n",
    "    dr = csv.DictReader(fin)\n",
    "    to_db = []\n",
    "    for i in dr:\n",
    "        to_db = (i['id'], i['node_id'], i['position'])\n",
    "        cur.execute(\"INSERT INTO ways_nodes(id, node_id, position) VALUES (?, ?, ?);\", to_db)\n",
    "db.commit()"
   ]
  },
  {
   "cell_type": "code",
   "execution_count": 42,
   "metadata": {
    "collapsed": true
   },
   "outputs": [],
   "source": [
    "db.close()"
   ]
  },
  {
   "cell_type": "code",
   "execution_count": null,
   "metadata": {
    "collapsed": true
   },
   "outputs": [],
   "source": []
  }
 ],
 "metadata": {
  "kernelspec": {
   "display_name": "Python 3",
   "language": "python",
   "name": "python3"
  },
  "language_info": {
   "codemirror_mode": {
    "name": "ipython",
    "version": 3
   },
   "file_extension": ".py",
   "mimetype": "text/x-python",
   "name": "python",
   "nbconvert_exporter": "python",
   "pygments_lexer": "ipython3",
   "version": "3.6.0"
  }
 },
 "nbformat": 4,
 "nbformat_minor": 2
}
