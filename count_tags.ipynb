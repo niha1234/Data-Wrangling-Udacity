{
 "cells": [
  {
   "cell_type": "code",
   "execution_count": 1,
   "metadata": {
    "collapsed": false
   },
   "outputs": [
    {
     "name": "stdout",
     "output_type": "stream",
     "text": [
      "{'bounds': 1,\n",
      " 'member': 70206,\n",
      " 'nd': 7796501,\n",
      " 'node': 6765370,\n",
      " 'osm': 1,\n",
      " 'relation': 6636,\n",
      " 'tag': 5021643,\n",
      " 'way': 877981}\n"
     ]
    }
   ],
   "source": [
    "import pprint\n",
    "import xml.etree.cElementTree as ET\n",
    "from itertools import islice\n",
    "# Let's see what types of tags we have in OSM_FILE and count their numbers\n",
    "\n",
    "OSM_FILE = \"./Data/portland_oregon.osm/portland_oregon.osm\"\n",
    "\n",
    "\n",
    "def count_tags(filename):\n",
    "    tags = {}\n",
    "    for event, elem in ET.iterparse(filename):\n",
    "        if elem.tag in tags:\n",
    "            tags[elem.tag] += 1\n",
    "        else:\n",
    "            tags[elem.tag] = 1\n",
    "    return tags\n",
    "\n",
    "\n",
    "pprint.pprint(count_tags(OSM_FILE))"
   ]
  }
 ],
 "metadata": {
  "kernelspec": {
   "display_name": "Python 3",
   "language": "python",
   "name": "python3"
  },
  "language_info": {
   "codemirror_mode": {
    "name": "ipython",
    "version": 3
   },
   "file_extension": ".py",
   "mimetype": "text/x-python",
   "name": "python",
   "nbconvert_exporter": "python",
   "pygments_lexer": "ipython3",
   "version": "3.6.0"
  }
 },
 "nbformat": 4,
 "nbformat_minor": 2
}
