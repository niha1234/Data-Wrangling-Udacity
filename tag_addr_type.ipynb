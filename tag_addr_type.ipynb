{
 "cells": [
  {
   "cell_type": "code",
   "execution_count": 2,
   "metadata": {
    "collapsed": false
   },
   "outputs": [
    {
     "name": "stdout",
     "output_type": "stream",
     "text": [
      "street : 467957\n",
      "housenumber : 467780\n",
      "postcode : 467545\n",
      "city : 467246\n",
      "state : 37351\n",
      "unit : 2842\n",
      "postcode:right : 660\n",
      "postcode:left : 659\n",
      "country : 221\n",
      "full : 71\n",
      "housename : 51\n",
      "place : 49\n",
      "floor : 8\n",
      "county : 8\n",
      "flats : 4\n",
      "city_1 : 2\n",
      "interpolation : 2\n",
      "housenumber_1 : 1\n",
      "suite : 1\n",
      "streetnumber : 1\n",
      "street_1 : 1\n",
      "suburb : 1\n"
     ]
    }
   ],
   "source": [
    "import operator\n",
    "import xml.etree.cElementTree as ET\n",
    "\n",
    "#Now in the tag 'tag' let's see what types of addresses we have inside the 'k' attribute and count them\n",
    "\n",
    "OSM_FILE = \"./Data/portland_oregon.osm/portland_oregon.osm\"\n",
    "\n",
    "\n",
    "address_types = {}\n",
    "for _, tag in ET.iterparse(OSM_FILE):\n",
    "    if tag.tag == \"tag\" and tag.attrib['k'].startswith(\"addr:\"):\n",
    "        k = tag.attrib['k'][5:]\n",
    "        address_types.setdefault(k, 0)\n",
    "        address_types[k] += 1\n",
    "\n",
    "\n",
    "for k,v in sorted(address_types.items(), key=operator.itemgetter(1), reverse=True):\n",
    "    print(k, ':', v)"
   ]
  },
  {
   "cell_type": "code",
   "execution_count": null,
   "metadata": {
    "collapsed": true
   },
   "outputs": [],
   "source": []
  }
 ],
 "metadata": {
  "kernelspec": {
   "display_name": "Python 3",
   "language": "python",
   "name": "python3"
  },
  "language_info": {
   "codemirror_mode": {
    "name": "ipython",
    "version": 3
   },
   "file_extension": ".py",
   "mimetype": "text/x-python",
   "name": "python",
   "nbconvert_exporter": "python",
   "pygments_lexer": "ipython3",
   "version": "3.6.0"
  }
 },
 "nbformat": 4,
 "nbformat_minor": 2
}
